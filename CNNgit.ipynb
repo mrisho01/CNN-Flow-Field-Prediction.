{
 "cells": [
  {
   "cell_type": "code",
   "execution_count": null,
   "metadata": {},
   "outputs": [],
   "source": [
    "# Import necessary libraries\n",
    "import numpy as np\n",
    "import pandas as pd\n",
    "from sklearn.model_selection import train_test_split\n",
    "from sklearn.metrics import mean_squared_error\n",
    "from keras.models import Sequential\n",
    "from keras.layers import Dense, Conv2D, Flatten, Dropout, BatchNormalization, MaxPooling2D, AveragePooling2D\n",
    "import matplotlib.pyplot as plt\n",
    "from tensorflow.keras.optimizers import Adam\n",
    "\n",
    "# Load dataset from CSV files\n",
    "dataframeINPUT = pd.read_csv('Inputs_Sparse.csv')\n",
    "dataframeOUTPUT = pd.read_csv('Outputs_Full.csv')\n",
    "X, Y = dataframeINPUT.to_numpy(), dataframeOUTPUT.to_numpy()\n",
    "\n",
    "# Visualize the data\n",
    "plt.plot(Y)\n",
    "plt.xlabel(\"Number of Data Arrays\")\n",
    "plt.ylabel(\"Data Point Value\")\n",
    "plt.show()"
   ]
  },
  {
   "cell_type": "code",
   "execution_count": null,
   "metadata": {},
   "outputs": [],
   "source": [
    "# Split the dataset into training and testing sets\n",
    "xtrain, xtest, ytrain, ytest = train_test_split(X, Y, test_size=0.5)\n",
    "\n",
    "# Display dataset shapes\n",
    "print(\"Input Shape:\", X.shape)\n",
    "print(\"Output Shape:\", Y.shape)\n",
    "in_dim = X.shape[1]\n",
    "out_dim = Y.shape[1]\n",
    "print(\"Output Dimension:\", out_dim)\n",
    "\n",
    "# Reshape the input data to fit the CNN model\n",
    "xtrain = xtrain.reshape(xtrain.shape[0], in_dim, 1)\n",
    "xtest = xtest.reshape(xtest.shape[0], in_dim, 1)\n",
    "\n",
    "# Display reshaped input shape\n",
    "print(\"Reshaped Input Shape:\", xtrain.shape)"
   ]
  },
  {
   "cell_type": "code",
   "execution_count": null,
   "metadata": {},
   "outputs": [],
   "source": [
    "# Create the CNN model\n",
    "model = Sequential()\n",
    "model.add(Conv2D(160, kernel_size=3, activation=\"relu\", input_shape=(in_dim, 1)))\n",
    "model.add(Conv2D(320, kernel_size=3, activation=\"relu\"))\n",
    "model.add(AveragePooling2D())\n",
    "model.add(Flatten())\n",
    "model.add(Dropout(0.1))\n",
    "model.add(Dense(out_dim))\n",
    "\n",
    "# Compile the model\n",
    "model.compile(loss=\"mae\", optimizer=Adam(), metrics=['accuracy'])\n",
    "model.summary()\n",
    "\n",
    "# Train the model\n",
    "history = model.fit(xtrain, ytrain, validation_data=(xtest, ytest), epochs=10, batch_size=100)\n"
   ]
  },
  {
   "cell_type": "code",
   "execution_count": null,
   "metadata": {},
   "outputs": [],
   "source": [
    "# Predict on the test set\n",
    "ypred = model.predict(xtest)\n",
    "\n",
    "# Save predictions to a CSV file\n",
    "np.savetxt(\"Predictions.csv\", ypred, delimiter=\",\")\n",
    "\n",
    "# Display shapes for verification\n",
    "print(\"Test Input Shape:\", xtest.shape)\n",
    "print(\"Test Output Shape:\", ytest.shape)\n",
    "print(\"Predicted Output Shape:\", ypred.shape)"
   ]
  },
  {
   "cell_type": "code",
   "execution_count": null,
   "metadata": {},
   "outputs": [],
   "source": [
    "# Display training and validation accuracy\n",
    "plt.plot(history.history['accuracy'], 'g', label='Training accuracy')\n",
    "plt.plot(history.history['val_accuracy'], 'b', label='Validation accuracy')\n",
    "plt.title('Training and Validation Accuracy')\n",
    "plt.xlabel('Epochs')\n",
    "plt.ylabel('Accuracy')\n",
    "plt.legend()\n",
    "plt.show()\n",
    "\n",
    "# Display training and test loss\n",
    "plt.plot(history.history['loss'], 'r--', label='Training Loss')\n",
    "plt.plot(history.history['val_loss'], 'b-', label='Test Loss')\n",
    "plt.legend(['Training Loss', 'Test Loss'])\n",
    "plt.xlabel('Epoch')\n",
    "plt.ylabel('Loss')\n",
    "plt.show()\n",
    "\n",
    "# Visualize a sample prediction along with actual and input data\n",
    "sample_index = 150\n",
    "predicted_sample = np.reshape(ypred[sample_index, :], (24, 108))\n",
    "input_sample = np.reshape(xtest[sample_index, :], (in_dim, 1))\n",
    "actual_sample = np.reshape(ytest[sample_index, :], (24, 108))\n",
    "\n",
    "fig, (ax1, ax2, ax3) = plt.subplots(3, 1)\n",
    "ax1.contour(np.flipud(predicted_sample))\n",
    "ax1.axis('equal')\n",
    "ax2.contour(np.flipud(input_sample))\n",
    "ax3.contour(np.flipud(actual_sample))\n",
    "ax3.axis('equal')"
   ]
  }
 ],
 "metadata": {
  "language_info": {
   "name": "python"
  }
 },
 "nbformat": 4,
 "nbformat_minor": 2
}
